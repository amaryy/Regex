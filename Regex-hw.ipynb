{
 "cells": [
  {
   "cell_type": "markdown",
   "metadata": {},
   "source": [
    "# Домашнее задание к лекции \"Регулярные выражения\"\n",
    "Для зачета необходимо выполнить 4 задания.  \n",
    "Для зачета с отличием – все."
   ]
  },
  {
   "cell_type": "markdown",
   "metadata": {},
   "source": [
    "## Задание 1"
   ]
  },
  {
   "cell_type": "markdown",
   "metadata": {},
   "source": [
    "Напишите функцию, которая принимает на вход строку и проверяет является ли она валидным транспортным номером. Если да, то функция должна возвращать отдельно номер и регион."
   ]
  },
  {
   "cell_type": "code",
   "execution_count": 3,
   "metadata": {},
   "outputs": [],
   "source": [
    "import re"
   ]
  },
  {
   "cell_type": "code",
   "execution_count": 322,
   "metadata": {},
   "outputs": [],
   "source": [
    "nums_auto = ['А154МН163','в567км63','G123ЕК' ]"
   ]
  },
  {
   "cell_type": "code",
   "execution_count": 323,
   "metadata": {},
   "outputs": [],
   "source": [
    "regex_auto1 ='([А,В,Е,К,М,Н,О,Р,С,Т,У,Х]{1})(\\d{3})([А,В,Е,К,М,Н,О,Р,С,Т,У,Х]{2}(\\d{2,3}))'"
   ]
  },
  {
   "cell_type": "code",
   "execution_count": 326,
   "metadata": {},
   "outputs": [
    {
     "name": "stdout",
     "output_type": "stream",
     "text": [
      "А154МН является валидным номером, регион 163\n",
      "в567км является валидным номером, регион 63\n",
      "Не является валидным номером\n"
     ]
    }
   ],
   "source": [
    "for numb_car in nums_auto:\n",
    "    if re.match(regex_auto1, numb_car,  re.IGNORECASE):\n",
    "        print(numb_car[0:6],'является валидным номером, регион', numb_car[6:9])\n",
    "    else:\n",
    "        print('Не является валидным номером')"
   ]
  },
  {
   "cell_type": "code",
   "execution_count": null,
   "metadata": {},
   "outputs": [],
   "source": []
  },
  {
   "cell_type": "markdown",
   "metadata": {},
   "source": [
    "## Задание 2"
   ]
  },
  {
   "cell_type": "markdown",
   "metadata": {},
   "source": [
    "Напишите функцию, которая проверяет e-mail адрес на валидность по стандарту RFC822: http://www.w3.org/Protocols/rfc822/. Для этого постарайтесь написать (в крайнем случае найти) самый полный шаблон для проверки e-mail адресов через регулярное выражение. Разберитесь и напишите примеры, какие ваш шаблон может не охватить."
   ]
  },
  {
   "cell_type": "code",
   "execution_count": 331,
   "metadata": {},
   "outputs": [],
   "source": []
  },
  {
   "cell_type": "code",
   "execution_count": 339,
   "metadata": {},
   "outputs": [],
   "source": [
    "valid_mails = '^([a-z0-9_-]+\\.)*[a-z0-9_-]+@[a-z0-9_-]+(\\.[a-z0-9_-]+)*\\.[a-z]{2,6}$'"
   ]
  },
  {
   "cell_type": "code",
   "execution_count": 347,
   "metadata": {},
   "outputs": [],
   "source": [
    "emails = ['N.john.smith@gmail.com', '87victory@hotmail.com', '!#mary-=@msca.net', 'net..ology@mail.ru']"
   ]
  },
  {
   "cell_type": "code",
   "execution_count": 348,
   "metadata": {},
   "outputs": [
    {
     "name": "stdout",
     "output_type": "stream",
     "text": [
      "The email N.john.smith@gmail.com is invalid\n",
      "The email 87victory@hotmail.com is a valid email\n",
      "The email !#mary-=@msca.net is invalid\n",
      "The email net..ology@mail.ru is invalid\n"
     ]
    }
   ],
   "source": [
    "# Не охватит email:\n",
    "#1) если будут заглавные буквы\n",
    "#2) в валидные адреса могут попасть адреса с странными символами\n",
    "for email in emails:\n",
    "    if re.match(valid_mails, email):\n",
    "        print('The email {} is a valid email'.format(email))\n",
    "    else:\n",
    "        print('The email {} is invalid'.format(email))   "
   ]
  },
  {
   "cell_type": "markdown",
   "metadata": {},
   "source": [
    "## Задание 3\n",
    "Напишите функцию, которая будет удалять все последовательные повторы слов из заданной строки."
   ]
  },
  {
   "cell_type": "code",
   "execution_count": 115,
   "metadata": {},
   "outputs": [],
   "source": [
    "my_str = 'я два два раза никогда никогда никогда не повторяю повторяю'"
   ]
  },
  {
   "cell_type": "code",
   "execution_count": 350,
   "metadata": {},
   "outputs": [
    {
     "name": "stdout",
     "output_type": "stream",
     "text": [
      "я два раза никогда не повторяю\n"
     ]
    }
   ],
   "source": [
    "print(re.sub(r'\\b([^\\W\\d+]+)(\\s+\\1)+\\b', r'\\1', my_str))"
   ]
  },
  {
   "cell_type": "markdown",
   "metadata": {},
   "source": [
    "## Задание 4\n",
    "Напишите функцию, которая будет проверять номер сотового телефона на валидность, если он валиден, то переводить его в формат:   \n",
    "+7(xxx)-xxx-xx-xx  \n",
    "Постарайтесь предусмотреть как можно больше адекватных форматов изначального ввода номера.\n",
    "Примеры правильных и неправильных форматов:\n",
    "- +7 955 555-55-55;\n",
    "- 955555555;\n",
    "- 8(955)555-55-55;\n",
    "- +7 955 555 55 55;\n",
    "- 7(955) 555-55-55;\n",
    "- +7 955+555+55+55."
   ]
  },
  {
   "cell_type": "code",
   "execution_count": 278,
   "metadata": {},
   "outputs": [],
   "source": [
    "input_number = ['+7 955 555-55-88', '9123456789', '8(955)555-55-34', '+6 955 555 55 11','89277214589', '7(955) 555-55-67','+7 955+555+55+89', '89555555545']"
   ]
  },
  {
   "cell_type": "code",
   "execution_count": 293,
   "metadata": {},
   "outputs": [
    {
     "name": "stdout",
     "output_type": "stream",
     "text": [
      "Номер корректный, +7(955)-555-55-88\n",
      "Номер корректный, +7(912)-345-67-89\n",
      "Номер корректный, +7(955)-555-55-34\n",
      "Некорректный номер\n",
      "Номер корректный, +7(927)-721-45-89\n",
      "Номер корректный, +7(955)-555-55-67\n",
      "Номер корректный, +7(955)-555-55-89\n",
      "Номер корректный, +7(955)-555-55-45\n"
     ]
    }
   ],
   "source": [
    "#вариант 2\n",
    "my_input = []\n",
    "for num in input_number:\n",
    "    my_input.append(re.sub(r'(\\D)', '', num))\n",
    "#print(my_input)\n",
    "for phone in my_input:\n",
    "    if re.match(r'[7-8]{1,2}[0-9]{9,10}', phone) and len(phone)==11:\n",
    "        print('Номер корректный, ' '+7'\"({})-{}-{}-{}\".format(phone[1:4], phone[4:7], phone[7:9], phone[9:11]))\n",
    "    elif re.match(r'[9]{1}[0-9]{2}[0-9]{3}[0-9]{2}[0-9]{2}', phone) and len(phone)==10:\n",
    "        print('Номер корректный, ''+7'\"({})-{}-{}-{}\".format(phone[0:3], phone[3:6], phone[6:8], phone[8:10]))\n",
    "    else:\n",
    "        print('Некорректный номер')"
   ]
  }
 ],
 "metadata": {
  "kernelspec": {
   "display_name": "Python 3",
   "language": "python",
   "name": "python3"
  },
  "language_info": {
   "codemirror_mode": {
    "name": "ipython",
    "version": 3
   },
   "file_extension": ".py",
   "mimetype": "text/x-python",
   "name": "python",
   "nbconvert_exporter": "python",
   "pygments_lexer": "ipython3",
   "version": "3.7.4"
  }
 },
 "nbformat": 4,
 "nbformat_minor": 2
}
